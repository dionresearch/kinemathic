{
 "cells": [
  {
   "cell_type": "code",
   "execution_count": 1,
   "metadata": {},
   "outputs": [],
   "source": [
    "import pandas as pd\n",
    "from kinemathic.animation import ianimate, tweening"
   ]
  },
  {
   "cell_type": "code",
   "execution_count": 2,
   "metadata": {},
   "outputs": [],
   "source": [
    "df = pd.read_excel('../datasets/WPP2015_FERT_F01_BIRTHS_BOTH_SEXES.XLS', skiprows=16, index_col = 'Country code')"
   ]
  },
  {
   "cell_type": "code",
   "execution_count": 3,
   "metadata": {},
   "outputs": [],
   "source": [
    "df.rename(columns={df.columns[2]:'Description'}, inplace=True)"
   ]
  },
  {
   "cell_type": "code",
   "execution_count": 4,
   "metadata": {},
   "outputs": [],
   "source": [
    "df.drop(df.columns[[0, 1, 3]], axis=1, inplace=True)"
   ]
  },
  {
   "cell_type": "code",
   "execution_count": 5,
   "metadata": {},
   "outputs": [
    {
     "data": {
      "text/html": [
       "<div>\n",
       "<style scoped>\n",
       "    .dataframe tbody tr th:only-of-type {\n",
       "        vertical-align: middle;\n",
       "    }\n",
       "\n",
       "    .dataframe tbody tr th {\n",
       "        vertical-align: top;\n",
       "    }\n",
       "\n",
       "    .dataframe thead th {\n",
       "        text-align: right;\n",
       "    }\n",
       "</style>\n",
       "<table border=\"1\" class=\"dataframe\">\n",
       "  <thead>\n",
       "    <tr style=\"text-align: right;\">\n",
       "      <th></th>\n",
       "      <th>Description</th>\n",
       "      <th>1950-1955</th>\n",
       "      <th>1955-1960</th>\n",
       "      <th>1960-1965</th>\n",
       "      <th>1965-1970</th>\n",
       "      <th>1970-1975</th>\n",
       "      <th>1975-1980</th>\n",
       "      <th>1980-1985</th>\n",
       "      <th>1985-1990</th>\n",
       "      <th>1990-1995</th>\n",
       "      <th>1995-2000</th>\n",
       "      <th>2000-2005</th>\n",
       "      <th>2005-2010</th>\n",
       "      <th>2010-2015</th>\n",
       "    </tr>\n",
       "    <tr>\n",
       "      <th>Country code</th>\n",
       "      <th></th>\n",
       "      <th></th>\n",
       "      <th></th>\n",
       "      <th></th>\n",
       "      <th></th>\n",
       "      <th></th>\n",
       "      <th></th>\n",
       "      <th></th>\n",
       "      <th></th>\n",
       "      <th></th>\n",
       "      <th></th>\n",
       "      <th></th>\n",
       "      <th></th>\n",
       "      <th></th>\n",
       "    </tr>\n",
       "  </thead>\n",
       "  <tbody>\n",
       "    <tr>\n",
       "      <th>900</th>\n",
       "      <td>WORLD</td>\n",
       "      <td>487364.363</td>\n",
       "      <td>512937.177</td>\n",
       "      <td>561132.795</td>\n",
       "      <td>597172.105</td>\n",
       "      <td>611175.699</td>\n",
       "      <td>607055.970</td>\n",
       "      <td>646458.598</td>\n",
       "      <td>698316.802</td>\n",
       "      <td>676437.337</td>\n",
       "      <td>650312.457</td>\n",
       "      <td>658430.353</td>\n",
       "      <td>680566.922</td>\n",
       "      <td>699213.776</td>\n",
       "    </tr>\n",
       "    <tr>\n",
       "      <th>901</th>\n",
       "      <td>More developed regions</td>\n",
       "      <td>93850.232</td>\n",
       "      <td>95448.675</td>\n",
       "      <td>92629.195</td>\n",
       "      <td>85134.137</td>\n",
       "      <td>82271.418</td>\n",
       "      <td>78923.492</td>\n",
       "      <td>79161.433</td>\n",
       "      <td>78297.163</td>\n",
       "      <td>71535.899</td>\n",
       "      <td>66248.331</td>\n",
       "      <td>66076.568</td>\n",
       "      <td>69551.907</td>\n",
       "      <td>68687.122</td>\n",
       "    </tr>\n",
       "    <tr>\n",
       "      <th>902</th>\n",
       "      <td>Less developed regions</td>\n",
       "      <td>393514.131</td>\n",
       "      <td>417488.502</td>\n",
       "      <td>468503.600</td>\n",
       "      <td>512037.968</td>\n",
       "      <td>528904.281</td>\n",
       "      <td>528132.478</td>\n",
       "      <td>567297.165</td>\n",
       "      <td>620019.639</td>\n",
       "      <td>604901.438</td>\n",
       "      <td>584064.126</td>\n",
       "      <td>592353.785</td>\n",
       "      <td>611015.015</td>\n",
       "      <td>630526.654</td>\n",
       "    </tr>\n",
       "    <tr>\n",
       "      <th>941</th>\n",
       "      <td>Least developed countries</td>\n",
       "      <td>49463.116</td>\n",
       "      <td>54921.227</td>\n",
       "      <td>61422.115</td>\n",
       "      <td>68881.235</td>\n",
       "      <td>76829.959</td>\n",
       "      <td>85551.485</td>\n",
       "      <td>95364.057</td>\n",
       "      <td>104201.246</td>\n",
       "      <td>113396.831</td>\n",
       "      <td>123647.646</td>\n",
       "      <td>133323.975</td>\n",
       "      <td>141890.152</td>\n",
       "      <td>149996.813</td>\n",
       "    </tr>\n",
       "    <tr>\n",
       "      <th>934</th>\n",
       "      <td>Less developed regions, excluding least develo...</td>\n",
       "      <td>344051.015</td>\n",
       "      <td>362567.275</td>\n",
       "      <td>407081.485</td>\n",
       "      <td>443156.733</td>\n",
       "      <td>452074.322</td>\n",
       "      <td>442580.993</td>\n",
       "      <td>471933.108</td>\n",
       "      <td>515818.393</td>\n",
       "      <td>491504.607</td>\n",
       "      <td>460416.480</td>\n",
       "      <td>459029.810</td>\n",
       "      <td>469124.863</td>\n",
       "      <td>480529.841</td>\n",
       "    </tr>\n",
       "  </tbody>\n",
       "</table>\n",
       "</div>"
      ],
      "text/plain": [
       "                                                    Description   1950-1955  \\\n",
       "Country code                                                                  \n",
       "900                                                       WORLD  487364.363   \n",
       "901                                      More developed regions   93850.232   \n",
       "902                                      Less developed regions  393514.131   \n",
       "941                                   Least developed countries   49463.116   \n",
       "934           Less developed regions, excluding least develo...  344051.015   \n",
       "\n",
       "               1955-1960   1960-1965   1965-1970   1970-1975   1975-1980  \\\n",
       "Country code                                                               \n",
       "900           512937.177  561132.795  597172.105  611175.699  607055.970   \n",
       "901            95448.675   92629.195   85134.137   82271.418   78923.492   \n",
       "902           417488.502  468503.600  512037.968  528904.281  528132.478   \n",
       "941            54921.227   61422.115   68881.235   76829.959   85551.485   \n",
       "934           362567.275  407081.485  443156.733  452074.322  442580.993   \n",
       "\n",
       "               1980-1985   1985-1990   1990-1995   1995-2000   2000-2005  \\\n",
       "Country code                                                               \n",
       "900           646458.598  698316.802  676437.337  650312.457  658430.353   \n",
       "901            79161.433   78297.163   71535.899   66248.331   66076.568   \n",
       "902           567297.165  620019.639  604901.438  584064.126  592353.785   \n",
       "941            95364.057  104201.246  113396.831  123647.646  133323.975   \n",
       "934           471933.108  515818.393  491504.607  460416.480  459029.810   \n",
       "\n",
       "               2005-2010   2010-2015  \n",
       "Country code                          \n",
       "900           680566.922  699213.776  \n",
       "901            69551.907   68687.122  \n",
       "902           611015.015  630526.654  \n",
       "941           141890.152  149996.813  \n",
       "934           469124.863  480529.841  "
      ]
     },
     "execution_count": 5,
     "metadata": {},
     "output_type": "execute_result"
    }
   ],
   "source": [
    "df.head()"
   ]
  },
  {
   "cell_type": "code",
   "execution_count": 6,
   "metadata": {},
   "outputs": [],
   "source": [
    "test = df[df.index <900][1:3]"
   ]
  },
  {
   "cell_type": "code",
   "execution_count": 7,
   "metadata": {},
   "outputs": [
    {
     "data": {
      "text/plain": [
       "<matplotlib.axes._subplots.AxesSubplot at 0x7f47f8cc7e10>"
      ]
     },
     "execution_count": 7,
     "metadata": {},
     "output_type": "execute_result"
    },
    {
     "data": {
      "image/png": "[encoded data removed]",
      "text/plain": [
       "<matplotlib.figure.Figure at 0x7f47f89d92b0>"
      ]
     },
     "metadata": {},
     "output_type": "display_data"
    }
   ],
   "source": [
    "test.T[1:].plot()"
   ]
  },
  {
   "cell_type": "code",
   "execution_count": 8,
   "metadata": {},
   "outputs": [
    {
     "data": {
      "text/html": [
       "<div>\n",
       "<style scoped>\n",
       "    .dataframe tbody tr th:only-of-type {\n",
       "        vertical-align: middle;\n",
       "    }\n",
       "\n",
       "    .dataframe tbody tr th {\n",
       "        vertical-align: top;\n",
       "    }\n",
       "\n",
       "    .dataframe thead th {\n",
       "        text-align: right;\n",
       "    }\n",
       "</style>\n",
       "<table border=\"1\" class=\"dataframe\">\n",
       "  <thead>\n",
       "    <tr style=\"text-align: right;\">\n",
       "      <th></th>\n",
       "      <th>Description</th>\n",
       "      <th>1950-1955</th>\n",
       "      <th>1955-1960</th>\n",
       "      <th>1960-1965</th>\n",
       "      <th>1965-1970</th>\n",
       "      <th>1970-1975</th>\n",
       "      <th>1975-1980</th>\n",
       "      <th>1980-1985</th>\n",
       "      <th>1985-1990</th>\n",
       "      <th>1990-1995</th>\n",
       "      <th>1995-2000</th>\n",
       "      <th>2000-2005</th>\n",
       "      <th>2005-2010</th>\n",
       "      <th>2010-2015</th>\n",
       "    </tr>\n",
       "    <tr>\n",
       "      <th>Country code</th>\n",
       "      <th></th>\n",
       "      <th></th>\n",
       "      <th></th>\n",
       "      <th></th>\n",
       "      <th></th>\n",
       "      <th></th>\n",
       "      <th></th>\n",
       "      <th></th>\n",
       "      <th></th>\n",
       "      <th></th>\n",
       "      <th></th>\n",
       "      <th></th>\n",
       "      <th></th>\n",
       "      <th></th>\n",
       "    </tr>\n",
       "  </thead>\n",
       "  <tbody>\n",
       "    <tr>\n",
       "      <th>174</th>\n",
       "      <td>Comoros</td>\n",
       "      <td>37.869</td>\n",
       "      <td>43.858</td>\n",
       "      <td>47.306</td>\n",
       "      <td>50.659</td>\n",
       "      <td>55.594</td>\n",
       "      <td>65.953</td>\n",
       "      <td>78.042</td>\n",
       "      <td>85.920</td>\n",
       "      <td>91.089</td>\n",
       "      <td>98.722</td>\n",
       "      <td>108.099</td>\n",
       "      <td>118.535</td>\n",
       "      <td>128.497</td>\n",
       "    </tr>\n",
       "    <tr>\n",
       "      <th>262</th>\n",
       "      <td>Djibouti</td>\n",
       "      <td>13.491</td>\n",
       "      <td>16.392</td>\n",
       "      <td>21.958</td>\n",
       "      <td>30.850</td>\n",
       "      <td>42.948</td>\n",
       "      <td>61.240</td>\n",
       "      <td>77.648</td>\n",
       "      <td>101.534</td>\n",
       "      <td>121.562</td>\n",
       "      <td>113.961</td>\n",
       "      <td>112.392</td>\n",
       "      <td>110.948</td>\n",
       "      <td>110.445</td>\n",
       "    </tr>\n",
       "  </tbody>\n",
       "</table>\n",
       "</div>"
      ],
      "text/plain": [
       "             Description  1950-1955  1955-1960  1960-1965  1965-1970  \\\n",
       "Country code                                                           \n",
       "174              Comoros     37.869     43.858     47.306     50.659   \n",
       "262             Djibouti     13.491     16.392     21.958     30.850   \n",
       "\n",
       "              1970-1975  1975-1980  1980-1985  1985-1990  1990-1995  \\\n",
       "Country code                                                          \n",
       "174              55.594     65.953     78.042     85.920     91.089   \n",
       "262              42.948     61.240     77.648    101.534    121.562   \n",
       "\n",
       "              1995-2000  2000-2005  2005-2010  2010-2015  \n",
       "Country code                                              \n",
       "174              98.722    108.099    118.535    128.497  \n",
       "262             113.961    112.392    110.948    110.445  "
      ]
     },
     "execution_count": 8,
     "metadata": {},
     "output_type": "execute_result"
    }
   ],
   "source": [
    "test"
   ]
  },
  {
   "cell_type": "markdown",
   "metadata": {},
   "source": [
    "## Tweening two lines"
   ]
  },
  {
   "cell_type": "code",
   "execution_count": 9,
   "metadata": {
    "scrolled": false
   },
   "outputs": [
    {
     "name": "stdout",
     "output_type": "stream",
     "text": [
      "dropping Description\n"
     ]
    },
    {
     "data": {
      "text/html": [
       "\n",
       "            <video width=\"640\" height=\"480\" controls loop>\n",
       "              <source src=\"test_30.mp4\" type=\"video/mp4\">\n",
       "            </video>\n",
       "        "
      ],
      "text/plain": [
       "<IPython.core.display.HTML object>"
      ]
     },
     "execution_count": 9,
     "metadata": {},
     "output_type": "execute_result"
    },
    {
     "data": {
      "image/png": "[encoded data removed]",
      "text/plain": [
       "<matplotlib.figure.Figure at 0x7f47f8a1aba8>"
      ]
     },
     "metadata": {},
     "output_type": "display_data"
    }
   ],
   "source": [
    "tweening(test, 'test_30.mp4', fps=10, transitions=30)"
   ]
  },
  {
   "cell_type": "code",
   "execution_count": 10,
   "metadata": {},
   "outputs": [
    {
     "name": "stderr",
     "output_type": "stream",
     "text": [
      "/home/fdion/anaconda3_5/lib/python3.6/site-packages/statsmodels/compat/pandas.py:56: FutureWarning: The pandas.core.datetools module is deprecated and will be removed in a future version. Please use the pandas.tseries module instead.\n",
      "  from pandas.core import datetools\n"
     ]
    }
   ],
   "source": [
    "import statsmodels.api as sm"
   ]
  },
  {
   "cell_type": "code",
   "execution_count": 11,
   "metadata": {},
   "outputs": [],
   "source": [
    "data = sm.datasets.co2.load_pandas()"
   ]
  },
  {
   "cell_type": "code",
   "execution_count": 12,
   "metadata": {},
   "outputs": [],
   "source": [
    "co2 = data.data"
   ]
  },
  {
   "cell_type": "code",
   "execution_count": 13,
   "metadata": {},
   "outputs": [
    {
     "data": {
      "text/html": [
       "<div>\n",
       "<style scoped>\n",
       "    .dataframe tbody tr th:only-of-type {\n",
       "        vertical-align: middle;\n",
       "    }\n",
       "\n",
       "    .dataframe tbody tr th {\n",
       "        vertical-align: top;\n",
       "    }\n",
       "\n",
       "    .dataframe thead th {\n",
       "        text-align: right;\n",
       "    }\n",
       "</style>\n",
       "<table border=\"1\" class=\"dataframe\">\n",
       "  <thead>\n",
       "    <tr style=\"text-align: right;\">\n",
       "      <th></th>\n",
       "      <th>co2</th>\n",
       "    </tr>\n",
       "  </thead>\n",
       "  <tbody>\n",
       "    <tr>\n",
       "      <th>1958-03-29</th>\n",
       "      <td>316.1</td>\n",
       "    </tr>\n",
       "    <tr>\n",
       "      <th>1958-04-05</th>\n",
       "      <td>317.3</td>\n",
       "    </tr>\n",
       "    <tr>\n",
       "      <th>1958-04-12</th>\n",
       "      <td>317.6</td>\n",
       "    </tr>\n",
       "    <tr>\n",
       "      <th>1958-04-19</th>\n",
       "      <td>317.5</td>\n",
       "    </tr>\n",
       "    <tr>\n",
       "      <th>1958-04-26</th>\n",
       "      <td>316.4</td>\n",
       "    </tr>\n",
       "  </tbody>\n",
       "</table>\n",
       "</div>"
      ],
      "text/plain": [
       "              co2\n",
       "1958-03-29  316.1\n",
       "1958-04-05  317.3\n",
       "1958-04-12  317.6\n",
       "1958-04-19  317.5\n",
       "1958-04-26  316.4"
      ]
     },
     "execution_count": 13,
     "metadata": {},
     "output_type": "execute_result"
    }
   ],
   "source": [
    "co2.head()"
   ]
  },
  {
   "cell_type": "code",
   "execution_count": 14,
   "metadata": {},
   "outputs": [
    {
     "data": {
      "text/plain": [
       "<matplotlib.axes._subplots.AxesSubplot at 0x7f47e64e5470>"
      ]
     },
     "execution_count": 14,
     "metadata": {},
     "output_type": "execute_result"
    },
    {
     "data": {
      "image/png": "[encoded data removed]",
      "text/plain": [
       "<matplotlib.figure.Figure at 0x7f47e64bfcc0>"
      ]
     },
     "metadata": {},
     "output_type": "display_data"
    }
   ],
   "source": [
    "co2[0:11].plot()"
   ]
  },
  {
   "cell_type": "code",
   "execution_count": 15,
   "metadata": {},
   "outputs": [],
   "source": [
    "## Time series animation"
   ]
  },
  {
   "cell_type": "code",
   "execution_count": 16,
   "metadata": {
    "scrolled": false
   },
   "outputs": [
    {
     "data": {
      "text/html": [
       "\n",
       "            <video width=\"640\" height=\"480\" controls loop>\n",
       "              <source src=\"tmp.mp4\" type=\"video/mp4\">\n",
       "            </video>\n",
       "        "
      ],
      "text/plain": [
       "<IPython.core.display.HTML object>"
      ]
     },
     "execution_count": 16,
     "metadata": {},
     "output_type": "execute_result"
    },
    {
     "data": {
      "image/png": "[encoded data removed]",
      "text/plain": [
       "<matplotlib.figure.Figure at 0x7f47e6450358>"
      ]
     },
     "metadata": {},
     "output_type": "display_data"
    }
   ],
   "source": [
    "ianimate(co2, n=len(co2), axis=1, step=25, autoscale=True)"
   ]
  },
  {
   "cell_type": "code",
   "execution_count": 17,
   "metadata": {},
   "outputs": [
    {
     "data": {
      "text/html": [
       "\n",
       "            <video width=\"640\" height=\"480\" controls loop>\n",
       "              <source src=\"hist.mp4\" type=\"video/mp4\">\n",
       "            </video>\n",
       "        "
      ],
      "text/plain": [
       "<IPython.core.display.HTML object>"
      ]
     },
     "execution_count": 17,
     "metadata": {},
     "output_type": "execute_result"
    },
    {
     "data": {
      "image/png": "[encoded data removed]",
      "text/plain": [
       "<matplotlib.figure.Figure at 0x7f47e64234e0>"
      ]
     },
     "metadata": {},
     "output_type": "display_data"
    }
   ],
   "source": [
    "ianimate(co2, filename='hist.mp4', n=len(co2), axis=1, step=25, autoscale=True, kind='hist')"
   ]
  },
  {
   "cell_type": "code",
   "execution_count": null,
   "metadata": {},
   "outputs": [],
   "source": []
  }
 ],
 "metadata": {
  "kernelspec": {
   "display_name": "Python 3",
   "language": "python",
   "name": "python3"
  },
  "language_info": {
   "codemirror_mode": {
    "name": "ipython",
    "version": 3
   },
   "file_extension": ".py",
   "mimetype": "text/x-python",
   "name": "python",
   "nbconvert_exporter": "python",
   "pygments_lexer": "ipython3",
   "version": "3.6.3"
  }
 },
 "nbformat": 4,
 "nbformat_minor": 2
}
